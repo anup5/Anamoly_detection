{
 "cells": [
  {
   "cell_type": "code",
   "execution_count": 105,
   "metadata": {},
   "outputs": [],
   "source": [
    "# import libraries \n",
    "import tensorflow as tf\n",
    "from tensorflow import keras\n",
    "import numpy as np\n",
    "import pandas as pd\n",
    "import matplotlib.pyplot as plt\n",
    "import warnings                   # To ignore the warnings warnings.filterwarnings(\"ignore\")\n",
    "# neural networks\n",
    "from keras import layers\n",
    "from keras import models\n",
    "from keras import regularizers\n",
    "\n",
    "# classification error metrics\n",
    "from sklearn.utils.multiclass import unique_labels\n",
    "from sklearn import metrics\n",
    "from sklearn.metrics import log_loss\n",
    "from sklearn.metrics import accuracy_score\n",
    "from sklearn.metrics import balanced_accuracy_score\n",
    "from sklearn.metrics import classification_report\n",
    "from sklearn.metrics import confusion_matrix\n",
    "from sklearn.metrics import f1_score\n",
    "from sklearn.metrics import average_precision_score\n",
    "from sklearn.metrics import recall_score\n",
    "from sklearn.metrics import precision_score\n",
    "from sklearn.metrics import precision_recall_fscore_support\n",
    "from sklearn.metrics import precision_recall_curve\n"
   ]
  },
  {
   "cell_type": "code",
   "execution_count": 106,
   "metadata": {},
   "outputs": [],
   "source": [
    "data_header = pd.read_csv('col_header.txt',header=None)\n",
    "data_header = data_header.rename(columns={0:\"anamoly_type\"})"
   ]
  },
  {
   "cell_type": "code",
   "execution_count": 107,
   "metadata": {},
   "outputs": [
    {
     "data": {
      "text/html": [
       "<div>\n",
       "<style scoped>\n",
       "    .dataframe tbody tr th:only-of-type {\n",
       "        vertical-align: middle;\n",
       "    }\n",
       "\n",
       "    .dataframe tbody tr th {\n",
       "        vertical-align: top;\n",
       "    }\n",
       "\n",
       "    .dataframe thead th {\n",
       "        text-align: right;\n",
       "    }\n",
       "</style>\n",
       "<table border=\"1\" class=\"dataframe\">\n",
       "  <thead>\n",
       "    <tr style=\"text-align: right;\">\n",
       "      <th></th>\n",
       "      <th>anamoly_type</th>\n",
       "    </tr>\n",
       "  </thead>\n",
       "  <tbody>\n",
       "    <tr>\n",
       "      <th>0</th>\n",
       "      <td>1.Adding an already existing block (.*)\\t</td>\n",
       "    </tr>\n",
       "    <tr>\n",
       "      <th>1</th>\n",
       "      <td>2.(.*)Verification succeeded for (.*)\\t</td>\n",
       "    </tr>\n",
       "    <tr>\n",
       "      <th>2</th>\n",
       "      <td>3.(.*) Served block (.*) to (.*)</td>\n",
       "    </tr>\n",
       "    <tr>\n",
       "      <th>3</th>\n",
       "      <td>4.(.*):Got exception while serving (.*) to (.*...</td>\n",
       "    </tr>\n",
       "    <tr>\n",
       "      <th>4</th>\n",
       "      <td>5.Receiving block (.*) src: (.*) dest: (.*)\\t</td>\n",
       "    </tr>\n",
       "    <tr>\n",
       "      <th>5</th>\n",
       "      <td>6.Received block (.*) src: (.*) dest: (.*) of ...</td>\n",
       "    </tr>\n",
       "    <tr>\n",
       "      <th>6</th>\n",
       "      <td>7.writeBlock (.*) received exception (.*)</td>\n",
       "    </tr>\n",
       "    <tr>\n",
       "      <th>7</th>\n",
       "      <td>8.PacketResponder ([-]?[0-9]+) for block (.*) ...</td>\n",
       "    </tr>\n",
       "    <tr>\n",
       "      <th>8</th>\n",
       "      <td>9.Received block (.*) of size ([-]?[0-9]+) fro...</td>\n",
       "    </tr>\n",
       "    <tr>\n",
       "      <th>9</th>\n",
       "      <td>10.PacketResponder (.*) ([-]?[0-9]+) Exception...</td>\n",
       "    </tr>\n",
       "    <tr>\n",
       "      <th>10</th>\n",
       "      <td>11.PacketResponder ([-]?[0-9]+) for block (.*)...</td>\n",
       "    </tr>\n",
       "    <tr>\n",
       "      <th>11</th>\n",
       "      <td>12.(.*):Exception writing block (.*) to mirror...</td>\n",
       "    </tr>\n",
       "    <tr>\n",
       "      <th>12</th>\n",
       "      <td>13.Receiving empty packet for block (.*)</td>\n",
       "    </tr>\n",
       "    <tr>\n",
       "      <th>13</th>\n",
       "      <td>14.Exception in receiveBlock for block (.*) (.*)</td>\n",
       "    </tr>\n",
       "    <tr>\n",
       "      <th>14</th>\n",
       "      <td>15.Changing block file offset of block (.*) fr...</td>\n",
       "    </tr>\n",
       "    <tr>\n",
       "      <th>15</th>\n",
       "      <td>16.(.*):Transmitted block (.*) to (.*)</td>\n",
       "    </tr>\n",
       "    <tr>\n",
       "      <th>16</th>\n",
       "      <td>17.(.*):Failed to transfer (.*) to (.*) got (.*)</td>\n",
       "    </tr>\n",
       "    <tr>\n",
       "      <th>17</th>\n",
       "      <td>18.(.*) Starting thread to transfer block (.*)...</td>\n",
       "    </tr>\n",
       "    <tr>\n",
       "      <th>18</th>\n",
       "      <td>19.Reopen Block (.*)</td>\n",
       "    </tr>\n",
       "    <tr>\n",
       "      <th>19</th>\n",
       "      <td>20.Unexpected error trying to delete block (.*...</td>\n",
       "    </tr>\n",
       "    <tr>\n",
       "      <th>20</th>\n",
       "      <td>21.Deleting block (.*) file (.*)</td>\n",
       "    </tr>\n",
       "    <tr>\n",
       "      <th>21</th>\n",
       "      <td>22.BLOCK\\* NameSystem\\.allocateBlock: (.*)\\. (.*)</td>\n",
       "    </tr>\n",
       "    <tr>\n",
       "      <th>22</th>\n",
       "      <td>23.BLOCK\\* NameSystem\\.delete: (.*) is added t...</td>\n",
       "    </tr>\n",
       "    <tr>\n",
       "      <th>23</th>\n",
       "      <td>24.BLOCK\\* Removing block (.*) from neededRepl...</td>\n",
       "    </tr>\n",
       "    <tr>\n",
       "      <th>24</th>\n",
       "      <td>25.BLOCK\\* ask (.*) to replicate (.*) to (.*)</td>\n",
       "    </tr>\n",
       "    <tr>\n",
       "      <th>25</th>\n",
       "      <td>26.BLOCK\\* NameSystem\\.addStoredBlock: blockMa...</td>\n",
       "    </tr>\n",
       "    <tr>\n",
       "      <th>26</th>\n",
       "      <td>27.BLOCK\\* NameSystem\\.addStoredBlock: Redunda...</td>\n",
       "    </tr>\n",
       "    <tr>\n",
       "      <th>27</th>\n",
       "      <td>28.BLOCK\\* NameSystem\\.addStoredBlock: addStor...</td>\n",
       "    </tr>\n",
       "    <tr>\n",
       "      <th>28</th>\n",
       "      <td>29.PendingReplicationMonitor timed out block (.*)</td>\n",
       "    </tr>\n",
       "  </tbody>\n",
       "</table>\n",
       "</div>"
      ],
      "text/plain": [
       "                                         anamoly_type\n",
       "0           1.Adding an already existing block (.*)\\t\n",
       "1             2.(.*)Verification succeeded for (.*)\\t\n",
       "2                    3.(.*) Served block (.*) to (.*)\n",
       "3   4.(.*):Got exception while serving (.*) to (.*...\n",
       "4       5.Receiving block (.*) src: (.*) dest: (.*)\\t\n",
       "5   6.Received block (.*) src: (.*) dest: (.*) of ...\n",
       "6           7.writeBlock (.*) received exception (.*)\n",
       "7   8.PacketResponder ([-]?[0-9]+) for block (.*) ...\n",
       "8   9.Received block (.*) of size ([-]?[0-9]+) fro...\n",
       "9   10.PacketResponder (.*) ([-]?[0-9]+) Exception...\n",
       "10  11.PacketResponder ([-]?[0-9]+) for block (.*)...\n",
       "11  12.(.*):Exception writing block (.*) to mirror...\n",
       "12           13.Receiving empty packet for block (.*)\n",
       "13   14.Exception in receiveBlock for block (.*) (.*)\n",
       "14  15.Changing block file offset of block (.*) fr...\n",
       "15             16.(.*):Transmitted block (.*) to (.*)\n",
       "16   17.(.*):Failed to transfer (.*) to (.*) got (.*)\n",
       "17  18.(.*) Starting thread to transfer block (.*)...\n",
       "18                               19.Reopen Block (.*)\n",
       "19  20.Unexpected error trying to delete block (.*...\n",
       "20                   21.Deleting block (.*) file (.*)\n",
       "21  22.BLOCK\\* NameSystem\\.allocateBlock: (.*)\\. (.*)\n",
       "22  23.BLOCK\\* NameSystem\\.delete: (.*) is added t...\n",
       "23  24.BLOCK\\* Removing block (.*) from neededRepl...\n",
       "24      25.BLOCK\\* ask (.*) to replicate (.*) to (.*)\n",
       "25  26.BLOCK\\* NameSystem\\.addStoredBlock: blockMa...\n",
       "26  27.BLOCK\\* NameSystem\\.addStoredBlock: Redunda...\n",
       "27  28.BLOCK\\* NameSystem\\.addStoredBlock: addStor...\n",
       "28  29.PendingReplicationMonitor timed out block (.*)"
      ]
     },
     "execution_count": 107,
     "metadata": {},
     "output_type": "execute_result"
    }
   ],
   "source": [
    "data_header"
   ]
  },
  {
   "cell_type": "code",
   "execution_count": 108,
   "metadata": {},
   "outputs": [],
   "source": [
    "data_label = pd.read_csv('mlabel.txt', sep=\" \", header=None, nrows=50000)"
   ]
  },
  {
   "cell_type": "code",
   "execution_count": 109,
   "metadata": {},
   "outputs": [],
   "source": [
    "labels = data_label[0]"
   ]
  },
  {
   "cell_type": "code",
   "execution_count": 110,
   "metadata": {},
   "outputs": [
    {
     "data": {
      "text/plain": [
       "(50000, 31)"
      ]
     },
     "execution_count": 110,
     "metadata": {},
     "output_type": "execute_result"
    }
   ],
   "source": [
    "data = pd.read_csv('rawTFVector.txt', sep=\" \", header=None,na_filter=False, error_bad_lines=False,nrows=50000)\n",
    "data.shape\n",
    "# error_bad_lines=False , Do note that this will cause the offending lines to be skipped.\n",
    "# If file contains no header row, then you should explicitly pass header=None\". "
   ]
  },
  {
   "cell_type": "code",
   "execution_count": 111,
   "metadata": {},
   "outputs": [],
   "source": [
    "pd.set_option('display.max_rows', 500)\n",
    "pd.set_option('display.max_columns', 500)\n",
    "pd.set_option('display.width', 1000)"
   ]
  },
  {
   "cell_type": "code",
   "execution_count": 112,
   "metadata": {},
   "outputs": [
    {
     "data": {
      "text/html": [
       "<div>\n",
       "<style scoped>\n",
       "    .dataframe tbody tr th:only-of-type {\n",
       "        vertical-align: middle;\n",
       "    }\n",
       "\n",
       "    .dataframe tbody tr th {\n",
       "        vertical-align: top;\n",
       "    }\n",
       "\n",
       "    .dataframe thead th {\n",
       "        text-align: right;\n",
       "    }\n",
       "</style>\n",
       "<table border=\"1\" class=\"dataframe\">\n",
       "  <thead>\n",
       "    <tr style=\"text-align: right;\">\n",
       "      <th></th>\n",
       "      <th>0</th>\n",
       "      <th>1</th>\n",
       "      <th>2</th>\n",
       "      <th>3</th>\n",
       "      <th>4</th>\n",
       "      <th>5</th>\n",
       "      <th>6</th>\n",
       "      <th>7</th>\n",
       "      <th>8</th>\n",
       "      <th>9</th>\n",
       "      <th>10</th>\n",
       "      <th>11</th>\n",
       "      <th>12</th>\n",
       "      <th>13</th>\n",
       "      <th>14</th>\n",
       "      <th>15</th>\n",
       "      <th>16</th>\n",
       "      <th>17</th>\n",
       "      <th>18</th>\n",
       "      <th>19</th>\n",
       "      <th>20</th>\n",
       "      <th>21</th>\n",
       "      <th>22</th>\n",
       "      <th>23</th>\n",
       "      <th>24</th>\n",
       "      <th>25</th>\n",
       "      <th>26</th>\n",
       "      <th>27</th>\n",
       "      <th>28</th>\n",
       "    </tr>\n",
       "  </thead>\n",
       "  <tbody>\n",
       "    <tr>\n",
       "      <th>count</th>\n",
       "      <td>50000.0</td>\n",
       "      <td>50000.000000</td>\n",
       "      <td>50000.000000</td>\n",
       "      <td>50000.000000</td>\n",
       "      <td>50000.000000</td>\n",
       "      <td>50000.000000</td>\n",
       "      <td>50000.000000</td>\n",
       "      <td>50000.000000</td>\n",
       "      <td>50000.000000</td>\n",
       "      <td>50000.000000</td>\n",
       "      <td>50000.000000</td>\n",
       "      <td>50000.000000</td>\n",
       "      <td>50000.000000</td>\n",
       "      <td>50000.000000</td>\n",
       "      <td>50000.000000</td>\n",
       "      <td>50000.000000</td>\n",
       "      <td>50000.0</td>\n",
       "      <td>50000.000000</td>\n",
       "      <td>50000.0</td>\n",
       "      <td>50000.000000</td>\n",
       "      <td>50000.000000</td>\n",
       "      <td>50000.0000</td>\n",
       "      <td>50000.000000</td>\n",
       "      <td>50000.000000</td>\n",
       "      <td>50000.000000</td>\n",
       "      <td>50000.00000</td>\n",
       "      <td>50000.000000</td>\n",
       "      <td>50000.000000</td>\n",
       "      <td>50000.000000</td>\n",
       "    </tr>\n",
       "    <tr>\n",
       "      <th>mean</th>\n",
       "      <td>0.0</td>\n",
       "      <td>0.207520</td>\n",
       "      <td>0.754000</td>\n",
       "      <td>0.634180</td>\n",
       "      <td>2.997180</td>\n",
       "      <td>0.012260</td>\n",
       "      <td>0.005700</td>\n",
       "      <td>0.000060</td>\n",
       "      <td>2.968520</td>\n",
       "      <td>0.000100</td>\n",
       "      <td>2.968720</td>\n",
       "      <td>0.000060</td>\n",
       "      <td>0.001920</td>\n",
       "      <td>0.000160</td>\n",
       "      <td>0.000080</td>\n",
       "      <td>0.012100</td>\n",
       "      <td>0.0</td>\n",
       "      <td>0.012140</td>\n",
       "      <td>0.0</td>\n",
       "      <td>0.003240</td>\n",
       "      <td>2.434940</td>\n",
       "      <td>0.9999</td>\n",
       "      <td>2.424440</td>\n",
       "      <td>0.000020</td>\n",
       "      <td>0.012140</td>\n",
       "      <td>2.99184</td>\n",
       "      <td>0.001600</td>\n",
       "      <td>0.002480</td>\n",
       "      <td>0.000040</td>\n",
       "    </tr>\n",
       "    <tr>\n",
       "      <th>std</th>\n",
       "      <td>0.0</td>\n",
       "      <td>0.576318</td>\n",
       "      <td>2.701102</td>\n",
       "      <td>1.660184</td>\n",
       "      <td>0.216825</td>\n",
       "      <td>0.141103</td>\n",
       "      <td>0.077638</td>\n",
       "      <td>0.007746</td>\n",
       "      <td>0.305501</td>\n",
       "      <td>0.014832</td>\n",
       "      <td>0.304932</td>\n",
       "      <td>0.007746</td>\n",
       "      <td>0.075871</td>\n",
       "      <td>0.014141</td>\n",
       "      <td>0.010954</td>\n",
       "      <td>0.137673</td>\n",
       "      <td>0.0</td>\n",
       "      <td>0.138105</td>\n",
       "      <td>0.0</td>\n",
       "      <td>0.058903</td>\n",
       "      <td>1.185359</td>\n",
       "      <td>0.0100</td>\n",
       "      <td>1.184246</td>\n",
       "      <td>0.004472</td>\n",
       "      <td>0.138105</td>\n",
       "      <td>0.40291</td>\n",
       "      <td>0.039968</td>\n",
       "      <td>0.049738</td>\n",
       "      <td>0.006324</td>\n",
       "    </tr>\n",
       "    <tr>\n",
       "      <th>min</th>\n",
       "      <td>0.0</td>\n",
       "      <td>0.000000</td>\n",
       "      <td>0.000000</td>\n",
       "      <td>0.000000</td>\n",
       "      <td>0.000000</td>\n",
       "      <td>0.000000</td>\n",
       "      <td>0.000000</td>\n",
       "      <td>0.000000</td>\n",
       "      <td>0.000000</td>\n",
       "      <td>0.000000</td>\n",
       "      <td>0.000000</td>\n",
       "      <td>0.000000</td>\n",
       "      <td>0.000000</td>\n",
       "      <td>0.000000</td>\n",
       "      <td>0.000000</td>\n",
       "      <td>0.000000</td>\n",
       "      <td>0.0</td>\n",
       "      <td>0.000000</td>\n",
       "      <td>0.0</td>\n",
       "      <td>0.000000</td>\n",
       "      <td>0.000000</td>\n",
       "      <td>0.0000</td>\n",
       "      <td>0.000000</td>\n",
       "      <td>0.000000</td>\n",
       "      <td>0.000000</td>\n",
       "      <td>0.00000</td>\n",
       "      <td>0.000000</td>\n",
       "      <td>0.000000</td>\n",
       "      <td>0.000000</td>\n",
       "    </tr>\n",
       "    <tr>\n",
       "      <th>25%</th>\n",
       "      <td>0.0</td>\n",
       "      <td>0.000000</td>\n",
       "      <td>0.000000</td>\n",
       "      <td>0.000000</td>\n",
       "      <td>3.000000</td>\n",
       "      <td>0.000000</td>\n",
       "      <td>0.000000</td>\n",
       "      <td>0.000000</td>\n",
       "      <td>3.000000</td>\n",
       "      <td>0.000000</td>\n",
       "      <td>3.000000</td>\n",
       "      <td>0.000000</td>\n",
       "      <td>0.000000</td>\n",
       "      <td>0.000000</td>\n",
       "      <td>0.000000</td>\n",
       "      <td>0.000000</td>\n",
       "      <td>0.0</td>\n",
       "      <td>0.000000</td>\n",
       "      <td>0.0</td>\n",
       "      <td>0.000000</td>\n",
       "      <td>3.000000</td>\n",
       "      <td>1.0000</td>\n",
       "      <td>3.000000</td>\n",
       "      <td>0.000000</td>\n",
       "      <td>0.000000</td>\n",
       "      <td>3.00000</td>\n",
       "      <td>0.000000</td>\n",
       "      <td>0.000000</td>\n",
       "      <td>0.000000</td>\n",
       "    </tr>\n",
       "    <tr>\n",
       "      <th>50%</th>\n",
       "      <td>0.0</td>\n",
       "      <td>0.000000</td>\n",
       "      <td>0.000000</td>\n",
       "      <td>0.000000</td>\n",
       "      <td>3.000000</td>\n",
       "      <td>0.000000</td>\n",
       "      <td>0.000000</td>\n",
       "      <td>0.000000</td>\n",
       "      <td>3.000000</td>\n",
       "      <td>0.000000</td>\n",
       "      <td>3.000000</td>\n",
       "      <td>0.000000</td>\n",
       "      <td>0.000000</td>\n",
       "      <td>0.000000</td>\n",
       "      <td>0.000000</td>\n",
       "      <td>0.000000</td>\n",
       "      <td>0.0</td>\n",
       "      <td>0.000000</td>\n",
       "      <td>0.0</td>\n",
       "      <td>0.000000</td>\n",
       "      <td>3.000000</td>\n",
       "      <td>1.0000</td>\n",
       "      <td>3.000000</td>\n",
       "      <td>0.000000</td>\n",
       "      <td>0.000000</td>\n",
       "      <td>3.00000</td>\n",
       "      <td>0.000000</td>\n",
       "      <td>0.000000</td>\n",
       "      <td>0.000000</td>\n",
       "    </tr>\n",
       "    <tr>\n",
       "      <th>75%</th>\n",
       "      <td>0.0</td>\n",
       "      <td>0.000000</td>\n",
       "      <td>0.000000</td>\n",
       "      <td>0.000000</td>\n",
       "      <td>3.000000</td>\n",
       "      <td>0.000000</td>\n",
       "      <td>0.000000</td>\n",
       "      <td>0.000000</td>\n",
       "      <td>3.000000</td>\n",
       "      <td>0.000000</td>\n",
       "      <td>3.000000</td>\n",
       "      <td>0.000000</td>\n",
       "      <td>0.000000</td>\n",
       "      <td>0.000000</td>\n",
       "      <td>0.000000</td>\n",
       "      <td>0.000000</td>\n",
       "      <td>0.0</td>\n",
       "      <td>0.000000</td>\n",
       "      <td>0.0</td>\n",
       "      <td>0.000000</td>\n",
       "      <td>3.000000</td>\n",
       "      <td>1.0000</td>\n",
       "      <td>3.000000</td>\n",
       "      <td>0.000000</td>\n",
       "      <td>0.000000</td>\n",
       "      <td>3.00000</td>\n",
       "      <td>0.000000</td>\n",
       "      <td>0.000000</td>\n",
       "      <td>0.000000</td>\n",
       "    </tr>\n",
       "    <tr>\n",
       "      <th>max</th>\n",
       "      <td>0.0</td>\n",
       "      <td>3.000000</td>\n",
       "      <td>203.000000</td>\n",
       "      <td>30.000000</td>\n",
       "      <td>10.000000</td>\n",
       "      <td>7.000000</td>\n",
       "      <td>3.000000</td>\n",
       "      <td>1.000000</td>\n",
       "      <td>3.000000</td>\n",
       "      <td>3.000000</td>\n",
       "      <td>5.000000</td>\n",
       "      <td>1.000000</td>\n",
       "      <td>3.000000</td>\n",
       "      <td>2.000000</td>\n",
       "      <td>2.000000</td>\n",
       "      <td>4.000000</td>\n",
       "      <td>0.0</td>\n",
       "      <td>4.000000</td>\n",
       "      <td>0.0</td>\n",
       "      <td>2.000000</td>\n",
       "      <td>10.000000</td>\n",
       "      <td>1.0000</td>\n",
       "      <td>10.000000</td>\n",
       "      <td>1.000000</td>\n",
       "      <td>4.000000</td>\n",
       "      <td>10.00000</td>\n",
       "      <td>1.000000</td>\n",
       "      <td>1.000000</td>\n",
       "      <td>1.000000</td>\n",
       "    </tr>\n",
       "  </tbody>\n",
       "</table>\n",
       "</div>"
      ],
      "text/plain": [
       "            0             1             2             3             4             5             6             7             8             9             10            11            12            13            14            15       16            17       18            19            20          21            22            23            24           25            26            27            28\n",
       "count  50000.0  50000.000000  50000.000000  50000.000000  50000.000000  50000.000000  50000.000000  50000.000000  50000.000000  50000.000000  50000.000000  50000.000000  50000.000000  50000.000000  50000.000000  50000.000000  50000.0  50000.000000  50000.0  50000.000000  50000.000000  50000.0000  50000.000000  50000.000000  50000.000000  50000.00000  50000.000000  50000.000000  50000.000000\n",
       "mean       0.0      0.207520      0.754000      0.634180      2.997180      0.012260      0.005700      0.000060      2.968520      0.000100      2.968720      0.000060      0.001920      0.000160      0.000080      0.012100      0.0      0.012140      0.0      0.003240      2.434940      0.9999      2.424440      0.000020      0.012140      2.99184      0.001600      0.002480      0.000040\n",
       "std        0.0      0.576318      2.701102      1.660184      0.216825      0.141103      0.077638      0.007746      0.305501      0.014832      0.304932      0.007746      0.075871      0.014141      0.010954      0.137673      0.0      0.138105      0.0      0.058903      1.185359      0.0100      1.184246      0.004472      0.138105      0.40291      0.039968      0.049738      0.006324\n",
       "min        0.0      0.000000      0.000000      0.000000      0.000000      0.000000      0.000000      0.000000      0.000000      0.000000      0.000000      0.000000      0.000000      0.000000      0.000000      0.000000      0.0      0.000000      0.0      0.000000      0.000000      0.0000      0.000000      0.000000      0.000000      0.00000      0.000000      0.000000      0.000000\n",
       "25%        0.0      0.000000      0.000000      0.000000      3.000000      0.000000      0.000000      0.000000      3.000000      0.000000      3.000000      0.000000      0.000000      0.000000      0.000000      0.000000      0.0      0.000000      0.0      0.000000      3.000000      1.0000      3.000000      0.000000      0.000000      3.00000      0.000000      0.000000      0.000000\n",
       "50%        0.0      0.000000      0.000000      0.000000      3.000000      0.000000      0.000000      0.000000      3.000000      0.000000      3.000000      0.000000      0.000000      0.000000      0.000000      0.000000      0.0      0.000000      0.0      0.000000      3.000000      1.0000      3.000000      0.000000      0.000000      3.00000      0.000000      0.000000      0.000000\n",
       "75%        0.0      0.000000      0.000000      0.000000      3.000000      0.000000      0.000000      0.000000      3.000000      0.000000      3.000000      0.000000      0.000000      0.000000      0.000000      0.000000      0.0      0.000000      0.0      0.000000      3.000000      1.0000      3.000000      0.000000      0.000000      3.00000      0.000000      0.000000      0.000000\n",
       "max        0.0      3.000000    203.000000     30.000000     10.000000      7.000000      3.000000      1.000000      3.000000      3.000000      5.000000      1.000000      3.000000      2.000000      2.000000      4.000000      0.0      4.000000      0.0      2.000000     10.000000      1.0000     10.000000      1.000000      4.000000     10.00000      1.000000      1.000000      1.000000"
      ]
     },
     "execution_count": 112,
     "metadata": {},
     "output_type": "execute_result"
    }
   ],
   "source": [
    "data.describe()"
   ]
  },
  {
   "cell_type": "code",
   "execution_count": 113,
   "metadata": {},
   "outputs": [
    {
     "data": {
      "text/html": [
       "<div>\n",
       "<style scoped>\n",
       "    .dataframe tbody tr th:only-of-type {\n",
       "        vertical-align: middle;\n",
       "    }\n",
       "\n",
       "    .dataframe tbody tr th {\n",
       "        vertical-align: top;\n",
       "    }\n",
       "\n",
       "    .dataframe thead th {\n",
       "        text-align: right;\n",
       "    }\n",
       "</style>\n",
       "<table border=\"1\" class=\"dataframe\">\n",
       "  <thead>\n",
       "    <tr style=\"text-align: right;\">\n",
       "      <th></th>\n",
       "      <th>0</th>\n",
       "      <th>1</th>\n",
       "      <th>2</th>\n",
       "      <th>3</th>\n",
       "      <th>4</th>\n",
       "      <th>5</th>\n",
       "      <th>6</th>\n",
       "      <th>7</th>\n",
       "      <th>8</th>\n",
       "      <th>9</th>\n",
       "      <th>10</th>\n",
       "      <th>11</th>\n",
       "      <th>12</th>\n",
       "      <th>13</th>\n",
       "      <th>14</th>\n",
       "      <th>15</th>\n",
       "      <th>16</th>\n",
       "      <th>17</th>\n",
       "      <th>18</th>\n",
       "      <th>19</th>\n",
       "      <th>20</th>\n",
       "      <th>21</th>\n",
       "      <th>22</th>\n",
       "      <th>23</th>\n",
       "      <th>24</th>\n",
       "      <th>25</th>\n",
       "      <th>26</th>\n",
       "      <th>27</th>\n",
       "      <th>28</th>\n",
       "      <th>29</th>\n",
       "      <th>30</th>\n",
       "    </tr>\n",
       "  </thead>\n",
       "  <tbody>\n",
       "    <tr>\n",
       "      <th>0</th>\n",
       "      <td>0</td>\n",
       "      <td>0</td>\n",
       "      <td>6</td>\n",
       "      <td>3</td>\n",
       "      <td>3</td>\n",
       "      <td>0</td>\n",
       "      <td>0</td>\n",
       "      <td>0</td>\n",
       "      <td>3</td>\n",
       "      <td>0</td>\n",
       "      <td>3</td>\n",
       "      <td>0</td>\n",
       "      <td>0</td>\n",
       "      <td>0</td>\n",
       "      <td>0</td>\n",
       "      <td>0</td>\n",
       "      <td>0</td>\n",
       "      <td>0</td>\n",
       "      <td>0</td>\n",
       "      <td>0</td>\n",
       "      <td>3</td>\n",
       "      <td>1</td>\n",
       "      <td>3</td>\n",
       "      <td>0</td>\n",
       "      <td>0</td>\n",
       "      <td>3</td>\n",
       "      <td>0</td>\n",
       "      <td>0</td>\n",
       "      <td>0</td>\n",
       "      <td></td>\n",
       "      <td>%%blk_-100000266894974466</td>\n",
       "    </tr>\n",
       "  </tbody>\n",
       "</table>\n",
       "</div>"
      ],
      "text/plain": [
       "   0   1   2   3   4   5   6   7   8   9   10  11  12  13  14  15  16  17  18  19  20  21  22  23  24  25  26  27  28 29                         30\n",
       "0   0   0   6   3   3   0   0   0   3   0   3   0   0   0   0   0   0   0   0   0   3   1   3   0   0   3   0   0   0     %%blk_-100000266894974466"
      ]
     },
     "execution_count": 113,
     "metadata": {},
     "output_type": "execute_result"
    }
   ],
   "source": [
    "data.head(1)"
   ]
  },
  {
   "cell_type": "code",
   "execution_count": 114,
   "metadata": {},
   "outputs": [],
   "source": [
    "# dropping the below columns as they do contains only NaNs.\n",
    "data = data.drop(columns=[0,16,18,29,30])"
   ]
  },
  {
   "cell_type": "code",
   "execution_count": 115,
   "metadata": {},
   "outputs": [],
   "source": [
    "#df = pd.concat(data_header['anamoly_type'],data)"
   ]
  },
  {
   "cell_type": "code",
   "execution_count": 116,
   "metadata": {},
   "outputs": [
    {
     "name": "stdout",
     "output_type": "stream",
     "text": [
      "<class 'pandas.core.frame.DataFrame'>\n",
      "RangeIndex: 50000 entries, 0 to 49999\n",
      "Data columns (total 26 columns):\n",
      "1     50000 non-null int64\n",
      "2     50000 non-null int64\n",
      "3     50000 non-null int64\n",
      "4     50000 non-null int64\n",
      "5     50000 non-null int64\n",
      "6     50000 non-null int64\n",
      "7     50000 non-null int64\n",
      "8     50000 non-null int64\n",
      "9     50000 non-null int64\n",
      "10    50000 non-null int64\n",
      "11    50000 non-null int64\n",
      "12    50000 non-null int64\n",
      "13    50000 non-null int64\n",
      "14    50000 non-null int64\n",
      "15    50000 non-null int64\n",
      "17    50000 non-null int64\n",
      "19    50000 non-null int64\n",
      "20    50000 non-null int64\n",
      "21    50000 non-null int64\n",
      "22    50000 non-null int64\n",
      "23    50000 non-null int64\n",
      "24    50000 non-null int64\n",
      "25    50000 non-null int64\n",
      "26    50000 non-null int64\n",
      "27    50000 non-null int64\n",
      "28    50000 non-null int64\n",
      "dtypes: int64(26)\n",
      "memory usage: 9.9 MB\n"
     ]
    }
   ],
   "source": [
    "data.info()"
   ]
  },
  {
   "cell_type": "code",
   "execution_count": 117,
   "metadata": {},
   "outputs": [
    {
     "data": {
      "text/plain": [
       "1     0\n",
       "2     0\n",
       "3     0\n",
       "4     0\n",
       "5     0\n",
       "6     0\n",
       "7     0\n",
       "8     0\n",
       "9     0\n",
       "10    0\n",
       "11    0\n",
       "12    0\n",
       "13    0\n",
       "14    0\n",
       "15    0\n",
       "17    0\n",
       "19    0\n",
       "20    0\n",
       "21    0\n",
       "22    0\n",
       "23    0\n",
       "24    0\n",
       "25    0\n",
       "26    0\n",
       "27    0\n",
       "28    0\n",
       "dtype: int64"
      ]
     },
     "execution_count": 117,
     "metadata": {},
     "output_type": "execute_result"
    }
   ],
   "source": [
    "data.isnull().sum()"
   ]
  },
  {
   "cell_type": "code",
   "execution_count": 118,
   "metadata": {},
   "outputs": [],
   "source": [
    "#df = pd.concat(data_header,data,ignore_index=True)"
   ]
  },
  {
   "cell_type": "code",
   "execution_count": 119,
   "metadata": {},
   "outputs": [
    {
     "data": {
      "text/plain": [
       "(50000,)"
      ]
     },
     "execution_count": 119,
     "metadata": {},
     "output_type": "execute_result"
    }
   ],
   "source": [
    "labels.shape"
   ]
  },
  {
   "cell_type": "code",
   "execution_count": 120,
   "metadata": {},
   "outputs": [
    {
     "data": {
      "text/html": [
       "<div>\n",
       "<style scoped>\n",
       "    .dataframe tbody tr th:only-of-type {\n",
       "        vertical-align: middle;\n",
       "    }\n",
       "\n",
       "    .dataframe tbody tr th {\n",
       "        vertical-align: top;\n",
       "    }\n",
       "\n",
       "    .dataframe thead th {\n",
       "        text-align: right;\n",
       "    }\n",
       "</style>\n",
       "<table border=\"1\" class=\"dataframe\">\n",
       "  <thead>\n",
       "    <tr style=\"text-align: right;\">\n",
       "      <th></th>\n",
       "      <th>1</th>\n",
       "      <th>2</th>\n",
       "      <th>3</th>\n",
       "      <th>4</th>\n",
       "      <th>5</th>\n",
       "      <th>6</th>\n",
       "      <th>7</th>\n",
       "      <th>8</th>\n",
       "      <th>9</th>\n",
       "      <th>10</th>\n",
       "      <th>11</th>\n",
       "      <th>12</th>\n",
       "      <th>13</th>\n",
       "      <th>14</th>\n",
       "      <th>15</th>\n",
       "      <th>17</th>\n",
       "      <th>19</th>\n",
       "      <th>20</th>\n",
       "      <th>21</th>\n",
       "      <th>22</th>\n",
       "      <th>23</th>\n",
       "      <th>24</th>\n",
       "      <th>25</th>\n",
       "      <th>26</th>\n",
       "      <th>27</th>\n",
       "      <th>28</th>\n",
       "    </tr>\n",
       "  </thead>\n",
       "  <tbody>\n",
       "    <tr>\n",
       "      <th>0</th>\n",
       "      <td>0</td>\n",
       "      <td>6</td>\n",
       "      <td>3</td>\n",
       "      <td>3</td>\n",
       "      <td>0</td>\n",
       "      <td>0</td>\n",
       "      <td>0</td>\n",
       "      <td>3</td>\n",
       "      <td>0</td>\n",
       "      <td>3</td>\n",
       "      <td>0</td>\n",
       "      <td>0</td>\n",
       "      <td>0</td>\n",
       "      <td>0</td>\n",
       "      <td>0</td>\n",
       "      <td>0</td>\n",
       "      <td>0</td>\n",
       "      <td>3</td>\n",
       "      <td>1</td>\n",
       "      <td>3</td>\n",
       "      <td>0</td>\n",
       "      <td>0</td>\n",
       "      <td>3</td>\n",
       "      <td>0</td>\n",
       "      <td>0</td>\n",
       "      <td>0</td>\n",
       "    </tr>\n",
       "    <tr>\n",
       "      <th>1</th>\n",
       "      <td>0</td>\n",
       "      <td>0</td>\n",
       "      <td>0</td>\n",
       "      <td>3</td>\n",
       "      <td>0</td>\n",
       "      <td>0</td>\n",
       "      <td>0</td>\n",
       "      <td>3</td>\n",
       "      <td>0</td>\n",
       "      <td>3</td>\n",
       "      <td>0</td>\n",
       "      <td>0</td>\n",
       "      <td>0</td>\n",
       "      <td>0</td>\n",
       "      <td>0</td>\n",
       "      <td>0</td>\n",
       "      <td>0</td>\n",
       "      <td>3</td>\n",
       "      <td>1</td>\n",
       "      <td>3</td>\n",
       "      <td>0</td>\n",
       "      <td>0</td>\n",
       "      <td>3</td>\n",
       "      <td>0</td>\n",
       "      <td>0</td>\n",
       "      <td>0</td>\n",
       "    </tr>\n",
       "    <tr>\n",
       "      <th>2</th>\n",
       "      <td>1</td>\n",
       "      <td>0</td>\n",
       "      <td>0</td>\n",
       "      <td>3</td>\n",
       "      <td>0</td>\n",
       "      <td>0</td>\n",
       "      <td>0</td>\n",
       "      <td>3</td>\n",
       "      <td>0</td>\n",
       "      <td>3</td>\n",
       "      <td>0</td>\n",
       "      <td>0</td>\n",
       "      <td>0</td>\n",
       "      <td>0</td>\n",
       "      <td>0</td>\n",
       "      <td>0</td>\n",
       "      <td>0</td>\n",
       "      <td>3</td>\n",
       "      <td>1</td>\n",
       "      <td>3</td>\n",
       "      <td>0</td>\n",
       "      <td>0</td>\n",
       "      <td>3</td>\n",
       "      <td>0</td>\n",
       "      <td>0</td>\n",
       "      <td>0</td>\n",
       "    </tr>\n",
       "    <tr>\n",
       "      <th>3</th>\n",
       "      <td>0</td>\n",
       "      <td>3</td>\n",
       "      <td>4</td>\n",
       "      <td>3</td>\n",
       "      <td>0</td>\n",
       "      <td>0</td>\n",
       "      <td>0</td>\n",
       "      <td>3</td>\n",
       "      <td>0</td>\n",
       "      <td>3</td>\n",
       "      <td>0</td>\n",
       "      <td>0</td>\n",
       "      <td>0</td>\n",
       "      <td>0</td>\n",
       "      <td>0</td>\n",
       "      <td>0</td>\n",
       "      <td>0</td>\n",
       "      <td>3</td>\n",
       "      <td>1</td>\n",
       "      <td>3</td>\n",
       "      <td>0</td>\n",
       "      <td>0</td>\n",
       "      <td>3</td>\n",
       "      <td>0</td>\n",
       "      <td>0</td>\n",
       "      <td>0</td>\n",
       "    </tr>\n",
       "    <tr>\n",
       "      <th>4</th>\n",
       "      <td>0</td>\n",
       "      <td>0</td>\n",
       "      <td>0</td>\n",
       "      <td>3</td>\n",
       "      <td>0</td>\n",
       "      <td>0</td>\n",
       "      <td>0</td>\n",
       "      <td>3</td>\n",
       "      <td>0</td>\n",
       "      <td>3</td>\n",
       "      <td>0</td>\n",
       "      <td>0</td>\n",
       "      <td>0</td>\n",
       "      <td>0</td>\n",
       "      <td>0</td>\n",
       "      <td>0</td>\n",
       "      <td>0</td>\n",
       "      <td>3</td>\n",
       "      <td>1</td>\n",
       "      <td>3</td>\n",
       "      <td>0</td>\n",
       "      <td>0</td>\n",
       "      <td>3</td>\n",
       "      <td>0</td>\n",
       "      <td>0</td>\n",
       "      <td>0</td>\n",
       "    </tr>\n",
       "  </tbody>\n",
       "</table>\n",
       "</div>"
      ],
      "text/plain": [
       "   1   2   3   4   5   6   7   8   9   10  11  12  13  14  15  17  19  20  21  22  23  24  25  26  27  28\n",
       "0   0   6   3   3   0   0   0   3   0   3   0   0   0   0   0   0   0   3   1   3   0   0   3   0   0   0\n",
       "1   0   0   0   3   0   0   0   3   0   3   0   0   0   0   0   0   0   3   1   3   0   0   3   0   0   0\n",
       "2   1   0   0   3   0   0   0   3   0   3   0   0   0   0   0   0   0   3   1   3   0   0   3   0   0   0\n",
       "3   0   3   4   3   0   0   0   3   0   3   0   0   0   0   0   0   0   3   1   3   0   0   3   0   0   0\n",
       "4   0   0   0   3   0   0   0   3   0   3   0   0   0   0   0   0   0   3   1   3   0   0   3   0   0   0"
      ]
     },
     "execution_count": 120,
     "metadata": {},
     "output_type": "execute_result"
    }
   ],
   "source": [
    "data.head()"
   ]
  },
  {
   "cell_type": "code",
   "execution_count": 121,
   "metadata": {},
   "outputs": [
    {
     "data": {
      "text/plain": [
       "0    0\n",
       "1    0\n",
       "2    0\n",
       "3    0\n",
       "4    0\n",
       "Name: 0, dtype: int64"
      ]
     },
     "execution_count": 121,
     "metadata": {},
     "output_type": "execute_result"
    }
   ],
   "source": [
    "labels.head()"
   ]
  },
  {
   "cell_type": "code",
   "execution_count": 122,
   "metadata": {},
   "outputs": [
    {
     "data": {
      "text/plain": [
       "pandas.core.frame.DataFrame"
      ]
     },
     "execution_count": 122,
     "metadata": {},
     "output_type": "execute_result"
    }
   ],
   "source": [
    "type(data)"
   ]
  },
  {
   "cell_type": "code",
   "execution_count": 123,
   "metadata": {},
   "outputs": [],
   "source": [
    "data = data.to_numpy()"
   ]
  },
  {
   "cell_type": "code",
   "execution_count": 124,
   "metadata": {},
   "outputs": [
    {
     "data": {
      "text/plain": [
       "numpy.ndarray"
      ]
     },
     "execution_count": 124,
     "metadata": {},
     "output_type": "execute_result"
    }
   ],
   "source": [
    "type(data)"
   ]
  },
  {
   "cell_type": "code",
   "execution_count": 125,
   "metadata": {},
   "outputs": [],
   "source": [
    "data = data.astype(float)"
   ]
  },
  {
   "cell_type": "code",
   "execution_count": 126,
   "metadata": {},
   "outputs": [
    {
     "data": {
      "text/plain": [
       "array([[0., 6., 3., ..., 0., 0., 0.],\n",
       "       [0., 0., 0., ..., 0., 0., 0.],\n",
       "       [1., 0., 0., ..., 0., 0., 0.],\n",
       "       ...,\n",
       "       [0., 0., 0., ..., 0., 0., 0.],\n",
       "       [0., 0., 0., ..., 0., 0., 0.],\n",
       "       [0., 6., 3., ..., 0., 0., 0.]])"
      ]
     },
     "execution_count": 126,
     "metadata": {},
     "output_type": "execute_result"
    }
   ],
   "source": [
    "data"
   ]
  },
  {
   "cell_type": "code",
   "execution_count": 127,
   "metadata": {},
   "outputs": [],
   "source": [
    "train_data = data[:30000]\n",
    "test_data = data[30000:]"
   ]
  },
  {
   "cell_type": "code",
   "execution_count": 128,
   "metadata": {},
   "outputs": [],
   "source": [
    "train_labels = labels[:30000]\n",
    "test_labels = labels[30000:]"
   ]
  },
  {
   "cell_type": "code",
   "execution_count": 129,
   "metadata": {},
   "outputs": [],
   "source": [
    "# normalize the data\n",
    "mean = train_data.mean(axis=0)\n",
    "train_data -= mean\n",
    "std = train_data.std(axis=0)\n",
    "train_data /= std\n",
    "test_data -= mean\n",
    "test_data /= std"
   ]
  },
  {
   "cell_type": "code",
   "execution_count": 130,
   "metadata": {},
   "outputs": [
    {
     "data": {
      "text/plain": [
       "array([0.58, 2.94, 1.67, 0.22, 0.15, 0.08, 0.01, 0.3 , 0.01, 0.3 , 0.01,\n",
       "       0.08, 0.01, 0.01, 0.14, 0.14, 0.03, 1.19, 0.01, 1.19, 0.01, 0.14,\n",
       "       0.41, 0.04, 0.05, 0.01])"
      ]
     },
     "execution_count": 130,
     "metadata": {},
     "output_type": "execute_result"
    }
   ],
   "source": [
    "std"
   ]
  },
  {
   "cell_type": "markdown",
   "metadata": {},
   "source": [
    "# error metrics functions"
   ]
  },
  {
   "cell_type": "code",
   "execution_count": 131,
   "metadata": {},
   "outputs": [],
   "source": [
    "def plot_accuracy(acc,val_acc):\n",
    "    epochs = range(1, len(accuracy) + 1)\n",
    "    plt.plot(epochs, acc, 'r', label='Training aaccuracy')\n",
    "    plt.plot(epochs, val_acc, 'b', label='Validation accuracy')\n",
    "    plt.title('Training and validation accuracy')\n",
    "    plt.xlabel('Epochs')\n",
    "    plt.ylabel('accuracy')\n",
    "    plt.legend()\n",
    "    plt.show()"
   ]
  },
  {
   "cell_type": "code",
   "execution_count": 132,
   "metadata": {},
   "outputs": [],
   "source": [
    "def plot_loss(loss,val_loss):\n",
    "    epochs = range(1, len(loss) + 1)\n",
    "    plt.plot(epochs, loss, 'r', label='Training loss')\n",
    "    plt.plot(epochs, val_loss, 'b', label='Validation loss')\n",
    "    plt.title('Training and validation loss')\n",
    "    plt.xlabel('Epochs')\n",
    "    plt.ylabel('Loss')\n",
    "    plt.legend()\n",
    "    plt.show()"
   ]
  },
  {
   "cell_type": "code",
   "execution_count": 133,
   "metadata": {},
   "outputs": [],
   "source": [
    "def plot_confusion_matrix(y_true, y_pred, classes,\n",
    "                          normalize=False,\n",
    "                          title=None,\n",
    "                          cmap=plt.cm.Blues):\n",
    "    \"\"\"\n",
    "    This function prints and plots the confusion matrix.\n",
    "    Normalization can be applied by setting `normalize=True`.Model \n",
    "    \"\"\"\n",
    "    if not title:\n",
    "        if normalize:\n",
    "            title = 'Normalized confusion matrix'\n",
    "        else:\n",
    "            title = 'Confusion matrix, without normalization'\n",
    "\n",
    "    # Compute confusion matrix\n",
    "    cm = confusion_matrix(y_true, y_pred)\n",
    "    # Only use the labels that appear in the data\n",
    "    classes = list(unique_labels(y_true, y_pred))\n",
    "    if normalize:\n",
    "        cm = cm.astype('float') / cm.sum(axis=1)[:, np.newaxis]\n",
    "        print(\"Normalized confusion matrix\")\n",
    "    else:\n",
    "        print('Confusion matrix, without normalization')\n",
    "\n",
    "    print(cm)\n",
    "\n",
    "    fig, ax = plt.subplots()\n",
    "    im = ax.imshow(cm, interpolation='nearest', cmap=cmap)\n",
    "    ax.figure.colorbar(im, ax=ax)\n",
    "    # We want to show all ticks...\n",
    "    ax.set(xticks=np.arange(cm.shape[1]),\n",
    "           yticks=np.arange(cm.shape[0]),\n",
    "           # ... and label them with the respective list entries\n",
    "           xticklabels=classes, yticklabels=classes,\n",
    "           title=title,\n",
    "           ylabel='True label',\n",
    "           xlabel='Predicted label')\n",
    "\n",
    "    # Rotate the tick labels and set their alignment.\n",
    "    plt.setp(ax.get_xticklabels(), rotation=45, ha=\"right\",\n",
    "             rotation_mode=\"anchor\")\n",
    "\n",
    "    # Loop over data dimensions and create text annotations.\n",
    "    fmt = '.2f' if normalize else 'd'\n",
    "    thresh = cm.max() / 2.\n",
    "    for i in range(cm.shape[0]):\n",
    "        for j in range(cm.shape[1]):\n",
    "            ax.text(j, i, format(cm[i, j], fmt),\n",
    "                    ha=\"center\", va=\"center\",\n",
    "                    color=\"white\" if cm[i, j] > thresh else \"black\")\n",
    "    fig.tight_layout()\n",
    "    return ax\n",
    "\n",
    "\n",
    "np.set_printoptions(precision=2)\n",
    "\n",
    "# # Plot non-normalized confusion matrix\n",
    "# plot_confusion_matrix(y_test, y_pred, classes=class_names,\n",
    "#                       title='Confusion matrix, without normalization')\n",
    "\n",
    "# # Plot normalized confusion matrix\n",
    "# plot_confusion_matrix(y_test, y_pred, classes=class_names, normalize=True,\n",
    "#                       title='Normalized confusion matrix')\n",
    "\n",
    "# plt.show()"
   ]
  },
  {
   "cell_type": "code",
   "execution_count": 134,
   "metadata": {},
   "outputs": [],
   "source": [
    "def print_error_metrics(y1,y2):\n",
    "    print(\"accuracy score : %.3f\" % accuracy_score(y1,y2))\n",
    "    print(\"balanced accuracy score : %.3f\" % balanced_accuracy_score(y1,y2))\n",
    "    print(\"f1_score : %.3f\" % f1_score(y1,y2))\n",
    "    print(\"precision_score : %.3f\" % precision_score(y1,y2))     \n",
    "    print(\"recall_score : %.3f\" % recall_score(y1,y2))\n",
    "    #print(\"average precision_score : %.3f\" % average_precision_score(y1,y2))    //y2=y_score\n",
    "    #print(\"precision, recall, threshold : %.3f\" % precision_recall_curve(y_true, y_scores))\n",
    "    print(\"fbeta_score_0.5 : %.3f\" % metrics.fbeta_score(y1,y2, beta=0.5))\n",
    "    print(\"fbeta_score_1 : %.3f\" % metrics.fbeta_score(y1,y2, beta=1))  \n",
    "    print(\"fbeta_score_2 : %.3f\" % metrics.fbeta_score(y1,y2, beta=2))\n",
    "    #print(\"precision_recall_fscore_support: %.3f\" % metrics.precision_recall_fscore_support(y1,y2, beta=0.5))  \n",
    "    return None"
   ]
  },
  {
   "cell_type": "code",
   "execution_count": 135,
   "metadata": {},
   "outputs": [],
   "source": [
    "x_train = np.asarray(train_data).astype(float)\n",
    "x_test = np.asarray(test_data).astype(float)\n",
    "y_train = np.asarray(train_labels).astype(float)\n",
    "y_test = np.asarray(test_labels).astype(float)"
   ]
  },
  {
   "cell_type": "code",
   "execution_count": 136,
   "metadata": {},
   "outputs": [],
   "source": [
    "model = models.Sequential()\n",
    "model.add(layers.Dense(256, activation='relu',input_shape=(26,)))\n",
    "model.add(layers.Dense(128, activation='relu'))\n",
    "model.add(layers.Dense(64, activation='relu'))\n",
    "model.add(layers.Dense(1, activation='sigmoid'))"
   ]
  },
  {
   "cell_type": "code",
   "execution_count": 137,
   "metadata": {},
   "outputs": [
    {
     "name": "stdout",
     "output_type": "stream",
     "text": [
      "Model: \"sequential_3\"\n",
      "_________________________________________________________________\n",
      "Layer (type)                 Output Shape              Param #   \n",
      "=================================================================\n",
      "dense_9 (Dense)              (None, 256)               6912      \n",
      "_________________________________________________________________\n",
      "dense_10 (Dense)             (None, 128)               32896     \n",
      "_________________________________________________________________\n",
      "dense_11 (Dense)             (None, 64)                8256      \n",
      "_________________________________________________________________\n",
      "dense_12 (Dense)             (None, 1)                 65        \n",
      "=================================================================\n",
      "Total params: 48,129\n",
      "Trainable params: 48,129\n",
      "Non-trainable params: 0\n",
      "_________________________________________________________________\n"
     ]
    }
   ],
   "source": [
    "model.summary()"
   ]
  },
  {
   "cell_type": "code",
   "execution_count": 138,
   "metadata": {},
   "outputs": [],
   "source": [
    "model.compile(optimizer='rmsprop',loss='binary_crossentropy',metrics=['accuracy'])"
   ]
  },
  {
   "cell_type": "code",
   "execution_count": 139,
   "metadata": {},
   "outputs": [],
   "source": [
    "x_val = x_train[:10000]\n",
    "partial_x_train = x_train[10000:]\n",
    "y_val = y_train[:10000]\n",
    "partial_y_train = y_train[10000:]"
   ]
  },
  {
   "cell_type": "code",
   "execution_count": 140,
   "metadata": {},
   "outputs": [
    {
     "data": {
      "text/plain": [
       "((30000, 26), (20000, 26), (10000, 26), (20000, 26))"
      ]
     },
     "execution_count": 140,
     "metadata": {},
     "output_type": "execute_result"
    }
   ],
   "source": [
    "x_train.shape,x_test.shape,x_val.shape,partial_x_train.shape"
   ]
  },
  {
   "cell_type": "code",
   "execution_count": 141,
   "metadata": {},
   "outputs": [
    {
     "name": "stdout",
     "output_type": "stream",
     "text": [
      "Train on 20000 samples, validate on 10000 samples\n",
      "Epoch 1/20\n",
      "20000/20000 [==============================] - 1s 27us/step - loss: 0.1044 - acc: 0.9920 - val_loss: 0.0093 - val_acc: 0.9991\n",
      "Epoch 2/20\n",
      "20000/20000 [==============================] - 0s 8us/step - loss: 0.0049 - acc: 0.9989 - val_loss: 0.0069 - val_acc: 0.9992\n",
      "Epoch 3/20\n",
      "20000/20000 [==============================] - 0s 8us/step - loss: 0.0027 - acc: 0.9992 - val_loss: 0.0060 - val_acc: 0.9992\n",
      "Epoch 4/20\n",
      "20000/20000 [==============================] - 0s 7us/step - loss: 0.0017 - acc: 0.9996 - val_loss: 0.0066 - val_acc: 0.9992\n",
      "Epoch 5/20\n",
      "20000/20000 [==============================] - 0s 9us/step - loss: 0.0012 - acc: 0.9997 - val_loss: 0.0066 - val_acc: 0.9992\n",
      "Epoch 6/20\n",
      "20000/20000 [==============================] - 0s 10us/step - loss: 0.0016 - acc: 0.9996 - val_loss: 0.0063 - val_acc: 0.9992\n",
      "Epoch 7/20\n",
      "20000/20000 [==============================] - 0s 11us/step - loss: 0.0011 - acc: 0.9997 - val_loss: 0.0065 - val_acc: 0.9992\n",
      "Epoch 8/20\n",
      "20000/20000 [==============================] - 0s 10us/step - loss: 9.7291e-04 - acc: 0.9998 - val_loss: 0.0077 - val_acc: 0.9992\n",
      "Epoch 9/20\n",
      "20000/20000 [==============================] - 0s 10us/step - loss: 0.0014 - acc: 0.9996 - val_loss: 0.0070 - val_acc: 0.9992\n",
      "Epoch 10/20\n",
      "20000/20000 [==============================] - 0s 8us/step - loss: 6.5421e-04 - acc: 0.9999 - val_loss: 0.0067 - val_acc: 0.9993\n",
      "Epoch 11/20\n",
      "20000/20000 [==============================] - 0s 7us/step - loss: 0.0010 - acc: 0.9997 - val_loss: 0.0070 - val_acc: 0.9992\n",
      "Epoch 12/20\n",
      "20000/20000 [==============================] - 0s 8us/step - loss: 7.1791e-04 - acc: 0.9997 - val_loss: 0.0067 - val_acc: 0.9993\n",
      "Epoch 13/20\n",
      "20000/20000 [==============================] - 0s 8us/step - loss: 6.7637e-04 - acc: 0.9999 - val_loss: 0.0072 - val_acc: 0.9992\n",
      "Epoch 14/20\n",
      "20000/20000 [==============================] - 0s 7us/step - loss: 9.5278e-04 - acc: 0.9997 - val_loss: 0.0064 - val_acc: 0.9993\n",
      "Epoch 15/20\n",
      "20000/20000 [==============================] - 0s 8us/step - loss: 7.0158e-04 - acc: 0.9999 - val_loss: 0.0067 - val_acc: 0.9993\n",
      "Epoch 16/20\n",
      "20000/20000 [==============================] - 0s 7us/step - loss: 8.7184e-04 - acc: 0.9998 - val_loss: 0.0077 - val_acc: 0.9992\n",
      "Epoch 17/20\n",
      "20000/20000 [==============================] - 0s 7us/step - loss: 5.9847e-04 - acc: 0.9999 - val_loss: 0.0075 - val_acc: 0.9992\n",
      "Epoch 18/20\n",
      "20000/20000 [==============================] - 0s 8us/step - loss: 7.6666e-04 - acc: 0.9998 - val_loss: 0.0074 - val_acc: 0.9992\n",
      "Epoch 19/20\n",
      "20000/20000 [==============================] - 0s 8us/step - loss: 6.2595e-04 - acc: 0.9999 - val_loss: 0.0068 - val_acc: 0.9992\n",
      "Epoch 20/20\n",
      "20000/20000 [==============================] - 0s 8us/step - loss: 7.7731e-04 - acc: 0.9998 - val_loss: 0.0079 - val_acc: 0.9992\n",
      "20000/20000 [==============================] - 0s 11us/step\n",
      "[0.0026306438071049113, 0.99975]\n"
     ]
    }
   ],
   "source": [
    "history = model.fit(partial_x_train,partial_y_train,epochs=20,batch_size=512,validation_data=(x_val, y_val))\n",
    "\n",
    "results = model.evaluate(x_test, y_test)\n",
    "print(results)\n",
    "y_pred = model.predict(x_test)"
   ]
  },
  {
   "cell_type": "code",
   "execution_count": 142,
   "metadata": {},
   "outputs": [
    {
     "data": {
      "image/png": "[encoded data removed]",
      "text/plain": [
       "<Figure size 432x288 with 1 Axes>"
      ]
     },
     "metadata": {
      "needs_background": "light"
     },
     "output_type": "display_data"
    },
    {
     "data": {
      "image/png": "[encoded data removed]",
      "text/plain": [
       "<Figure size 432x288 with 1 Axes>"
      ]
     },
     "metadata": {
      "needs_background": "light"
     },
     "output_type": "display_data"
    }
   ],
   "source": [
    "accuracy,val_accuracy = history.history['acc'],history.history['val_acc']\n",
    "loss,val_loss = history.history['loss'],history.history['val_loss']\n",
    "plot_accuracy(accuracy,val_accuracy)\n",
    "plot_loss(loss,val_loss)"
   ]
  },
  {
   "cell_type": "code",
   "execution_count": 143,
   "metadata": {},
   "outputs": [
    {
     "name": "stdout",
     "output_type": "stream",
     "text": [
      "accuracy score : 1.000\n",
      "balanced accuracy score : 0.998\n",
      "f1_score : 0.995\n",
      "precision_score : 0.994\n",
      "recall_score : 0.996\n",
      "fbeta_score_0.5 : 0.995\n",
      "fbeta_score_1 : 0.995\n",
      "fbeta_score_2 : 0.996\n",
      "              precision    recall  f1-score   support\n",
      "\n",
      "      Normal       1.00      1.00      1.00     19460\n",
      "     Anamoly       0.99      1.00      1.00       540\n",
      "\n",
      "    accuracy                           1.00     20000\n",
      "   macro avg       1.00      1.00      1.00     20000\n",
      "weighted avg       1.00      1.00      1.00     20000\n",
      "\n",
      "Confusion matrix, without normalization\n",
      "[[19457     3]\n",
      " [    2   538]]\n",
      "Normalized confusion matrix\n",
      "[[1.00e+00 1.54e-04]\n",
      " [3.70e-03 9.96e-01]]\n"
     ]
    },
    {
     "data": {
      "image/png": "[encoded data removed]",
      "text/plain": [
       "<Figure size 432x288 with 2 Axes>"
      ]
     },
     "metadata": {
      "needs_background": "light"
     },
     "output_type": "display_data"
    },
    {
     "data": {
      "image/png": "[encoded data removed]",
      "text/plain": [
       "<Figure size 432x288 with 2 Axes>"
      ]
     },
     "metadata": {
      "needs_background": "light"
     },
     "output_type": "display_data"
    }
   ],
   "source": [
    "print_error_metrics(y_test,y_pred.round())\n",
    "\n",
    "target_names = ['Normal', 'Anamoly']\n",
    "print(classification_report(y_test, y_pred.round(), target_names=target_names))\n",
    "\n",
    "\n",
    "classes = list(unique_labels(y_test, y_pred.round()))\n",
    "\n",
    "# Plot non-normalized confusion matrix\n",
    "plot_confusion_matrix(y_test, y_pred.round(), classes=classes,title='Confusion matrix, without normalization')\n",
    "\n",
    "# Plot normalized confusion matrix\n",
    "plot_confusion_matrix(y_test, y_pred.round(), classes=classes, normalize=True,title='Normalized confusion matrix')\n",
    "\n",
    "plt.show()"
   ]
  },
  {
   "cell_type": "markdown",
   "metadata": {},
   "source": [
    "# Using SMOTE`"
   ]
  },
  {
   "cell_type": "code",
   "execution_count": 144,
   "metadata": {},
   "outputs": [],
   "source": [
    "from imblearn.over_sampling import SMOTE"
   ]
  },
  {
   "cell_type": "code",
   "execution_count": 145,
   "metadata": {},
   "outputs": [],
   "source": [
    "from imblearn.over_sampling import SMOTE\n",
    "from sklearn.model_selection import train_test_split\n",
    "\n",
    "y = labels\n",
    "X = data\n",
    "\n",
    "# setting up testing and training sets\n",
    "x_train, x_test, y_train, y_test = train_test_split(X, y, test_size=0.20)\n",
    "\n",
    "\n",
    "sm = SMOTE(random_state=27, ratio=1.0)\n",
    "x_train, y_train = sm.fit_sample(x_train, y_train)"
   ]
  },
  {
   "cell_type": "code",
   "execution_count": 146,
   "metadata": {},
   "outputs": [
    {
     "data": {
      "text/plain": [
       "((50000, 26), (78148, 26))"
      ]
     },
     "execution_count": 146,
     "metadata": {},
     "output_type": "execute_result"
    }
   ],
   "source": [
    "(X.shape,x_train.shape)"
   ]
  },
  {
   "cell_type": "code",
   "execution_count": 147,
   "metadata": {},
   "outputs": [
    {
     "data": {
      "text/plain": [
       "((array([0, 1], dtype=int64), array([48833,  1167], dtype=int64)),\n",
       " (array([0, 1], dtype=int64), array([48833,  1167], dtype=int64)))"
      ]
     },
     "execution_count": 147,
     "metadata": {},
     "output_type": "execute_result"
    }
   ],
   "source": [
    "np.unique(y,return_counts=True),np.unique(y,return_counts=True)"
   ]
  },
  {
   "cell_type": "code",
   "execution_count": 148,
   "metadata": {},
   "outputs": [
    {
     "data": {
      "text/plain": [
       "numpy.ndarray"
      ]
     },
     "execution_count": 148,
     "metadata": {},
     "output_type": "execute_result"
    }
   ],
   "source": [
    "type(x_train)"
   ]
  },
  {
   "cell_type": "code",
   "execution_count": 149,
   "metadata": {},
   "outputs": [
    {
     "data": {
      "text/plain": [
       "519.618129142294"
      ]
     },
     "execution_count": 149,
     "metadata": {},
     "output_type": "execute_result"
    }
   ],
   "source": [
    "np.max(x_train)"
   ]
  },
  {
   "cell_type": "code",
   "execution_count": 150,
   "metadata": {},
   "outputs": [
    {
     "data": {
      "text/plain": [
       "array([[-0.36, -0.26, -0.38, ..., -0.04, -0.05, -0.01],\n",
       "       [-0.36, -0.26, -0.38, ..., -0.04, -0.05, -0.01],\n",
       "       [-0.36, -0.26, -0.38, ..., -0.04, -0.05, -0.01],\n",
       "       ...,\n",
       "       [-0.36, -0.26, -0.38, ..., -0.04, -0.05, -0.01],\n",
       "       [ 1.38,  0.08, -0.38, ..., -0.04, -0.05, -0.01],\n",
       "       [-0.36, -0.26, -0.38, ..., -0.04, -0.05, -0.01]])"
      ]
     },
     "execution_count": 150,
     "metadata": {},
     "output_type": "execute_result"
    }
   ],
   "source": [
    "x_train"
   ]
  },
  {
   "cell_type": "code",
   "execution_count": 151,
   "metadata": {},
   "outputs": [
    {
     "data": {
      "text/plain": [
       "((78148, 26), (10000, 26))"
      ]
     },
     "execution_count": 151,
     "metadata": {},
     "output_type": "execute_result"
    }
   ],
   "source": [
    "x_train.shape,x_test.shape"
   ]
  },
  {
   "cell_type": "code",
   "execution_count": 152,
   "metadata": {},
   "outputs": [
    {
     "data": {
      "text/plain": [
       "(array([0, 1], dtype=int64), array([39074, 39074], dtype=int64))"
      ]
     },
     "execution_count": 152,
     "metadata": {},
     "output_type": "execute_result"
    }
   ],
   "source": [
    "np.unique(y_train,return_counts=True)"
   ]
  },
  {
   "cell_type": "code",
   "execution_count": 153,
   "metadata": {},
   "outputs": [
    {
     "data": {
      "text/plain": [
       "(array([0, 1], dtype=int64), array([9759,  241], dtype=int64))"
      ]
     },
     "execution_count": 153,
     "metadata": {},
     "output_type": "execute_result"
    }
   ],
   "source": [
    "np.unique(y_test,return_counts=True)"
   ]
  },
  {
   "cell_type": "code",
   "execution_count": 154,
   "metadata": {},
   "outputs": [],
   "source": [
    "x_val = x_train[:10000]\n",
    "partial_x_train = x_train[10000:]\n",
    "y_val = y_train[:10000]\n",
    "partial_y_train = y_train[10000:]"
   ]
  },
  {
   "cell_type": "code",
   "execution_count": 155,
   "metadata": {},
   "outputs": [
    {
     "data": {
      "text/plain": [
       "array([[-0.36, -0.26, -0.38, ..., -0.04, -0.05, -0.01],\n",
       "       [-0.36, -0.26, -0.38, ..., -0.04, -0.05, -0.01],\n",
       "       [-0.36, -0.26, -0.38, ..., -0.04, -0.05, -0.01],\n",
       "       ...,\n",
       "       [-0.36, -0.26, -0.38, ..., -0.04, -0.05, -0.01],\n",
       "       [ 1.38,  0.08, -0.38, ..., -0.04, -0.05, -0.01],\n",
       "       [-0.36, -0.26, -0.38, ..., -0.04, -0.05, -0.01]])"
      ]
     },
     "execution_count": 155,
     "metadata": {},
     "output_type": "execute_result"
    }
   ],
   "source": [
    "x_train"
   ]
  },
  {
   "cell_type": "code",
   "execution_count": 156,
   "metadata": {},
   "outputs": [
    {
     "name": "stdout",
     "output_type": "stream",
     "text": [
      "Train on 68148 samples, validate on 10000 samples\n",
      "Epoch 1/20\n",
      "68148/68148 [==============================] - 1s 10us/step - loss: 0.0033 - acc: 0.9994 - val_loss: 0.0031 - val_acc: 0.9997\n",
      "Epoch 2/20\n",
      "68148/68148 [==============================] - 0s 6us/step - loss: 0.0022 - acc: 0.9996 - val_loss: 0.0024 - val_acc: 0.9997\n",
      "Epoch 3/20\n",
      "68148/68148 [==============================] - 0s 6us/step - loss: 0.0019 - acc: 0.9995 - val_loss: 0.0029 - val_acc: 0.9997\n",
      "Epoch 4/20\n",
      "68148/68148 [==============================] - 0s 6us/step - loss: 0.0017 - acc: 0.9997 - val_loss: 0.0028 - val_acc: 0.9998\n",
      "Epoch 5/20\n",
      "68148/68148 [==============================] - 1s 9us/step - loss: 0.0017 - acc: 0.9997 - val_loss: 0.0030 - val_acc: 0.9997\n",
      "Epoch 6/20\n",
      "68148/68148 [==============================] - 0s 6us/step - loss: 0.0016 - acc: 0.9996 - val_loss: 0.0032 - val_acc: 0.9998\n",
      "Epoch 7/20\n",
      "68148/68148 [==============================] - 0s 7us/step - loss: 0.0017 - acc: 0.9997 - val_loss: 0.0034 - val_acc: 0.9991\n",
      "Epoch 8/20\n",
      "68148/68148 [==============================] - 0s 7us/step - loss: 0.0017 - acc: 0.9996 - val_loss: 0.0032 - val_acc: 0.9998\n",
      "Epoch 9/20\n",
      "68148/68148 [==============================] - 1s 8us/step - loss: 0.0017 - acc: 0.9997 - val_loss: 0.0027 - val_acc: 0.9998\n",
      "Epoch 10/20\n",
      "68148/68148 [==============================] - 1s 10us/step - loss: 0.0016 - acc: 0.9997 - val_loss: 0.0029 - val_acc: 0.9998\n",
      "Epoch 11/20\n",
      "68148/68148 [==============================] - 0s 7us/step - loss: 0.0016 - acc: 0.9997 - val_loss: 0.0027 - val_acc: 0.9998\n",
      "Epoch 12/20\n",
      "68148/68148 [==============================] - 1s 8us/step - loss: 0.0014 - acc: 0.9998 - val_loss: 0.0051 - val_acc: 0.9992\n",
      "Epoch 13/20\n",
      "68148/68148 [==============================] - 1s 7us/step - loss: 0.0016 - acc: 0.9997 - val_loss: 0.0030 - val_acc: 0.9998\n",
      "Epoch 14/20\n",
      "68148/68148 [==============================] - 1s 7us/step - loss: 0.0015 - acc: 0.9997 - val_loss: 0.0028 - val_acc: 0.9998\n",
      "Epoch 15/20\n",
      "68148/68148 [==============================] - 1s 7us/step - loss: 0.0016 - acc: 0.9997 - val_loss: 0.0027 - val_acc: 0.9998\n",
      "Epoch 16/20\n",
      "68148/68148 [==============================] - 1s 8us/step - loss: 0.0014 - acc: 0.9997 - val_loss: 0.0026 - val_acc: 0.9998\n",
      "Epoch 17/20\n",
      "68148/68148 [==============================] - 0s 6us/step - loss: 0.0014 - acc: 0.9997 - val_loss: 0.0030 - val_acc: 0.9998\n",
      "Epoch 18/20\n",
      "68148/68148 [==============================] - 0s 6us/step - loss: 0.0014 - acc: 0.9997 - val_loss: 0.0032 - val_acc: 0.9998\n",
      "Epoch 19/20\n",
      "68148/68148 [==============================] - 0s 7us/step - loss: 0.0016 - acc: 0.9998 - val_loss: 0.0027 - val_acc: 0.9998\n",
      "Epoch 20/20\n",
      "68148/68148 [==============================] - 0s 7us/step - loss: 0.0015 - acc: 0.9998 - val_loss: 0.0027 - val_acc: 0.9998\n",
      "10000/10000 [==============================] - 0s 13us/step\n",
      "[0.0016251605156285109, 0.9999]\n"
     ]
    }
   ],
   "source": [
    "model.compile(optimizer='rmsprop',loss='binary_crossentropy',metrics=['accuracy'])\n",
    "\n",
    "history = model.fit(partial_x_train,partial_y_train,epochs=20,batch_size=512,validation_data=(x_val, y_val))\n",
    "\n",
    "results = model.evaluate(x_test, y_test)\n",
    "print(results)\n",
    "y_pred = model.predict(x_test)"
   ]
  },
  {
   "cell_type": "code",
   "execution_count": 157,
   "metadata": {},
   "outputs": [
    {
     "data": {
      "image/png": "[encoded data removed]",
      "text/plain": [
       "<Figure size 432x288 with 1 Axes>"
      ]
     },
     "metadata": {
      "needs_background": "light"
     },
     "output_type": "display_data"
    },
    {
     "data": {
      "image/png": "[encoded data removed]",
      "text/plain": [
       "<Figure size 432x288 with 1 Axes>"
      ]
     },
     "metadata": {
      "needs_background": "light"
     },
     "output_type": "display_data"
    }
   ],
   "source": [
    "accuracy,val_accuracy = history.history['acc'],history.history['val_acc']\n",
    "loss,val_loss = history.history['loss'],history.history['val_loss']\n",
    "plot_accuracy(accuracy,val_accuracy)\n",
    "plot_loss(loss,val_loss)"
   ]
  },
  {
   "cell_type": "code",
   "execution_count": 158,
   "metadata": {},
   "outputs": [
    {
     "name": "stdout",
     "output_type": "stream",
     "text": [
      "accuracy score : 1.000\n",
      "balanced accuracy score : 1.000\n",
      "f1_score : 0.998\n",
      "precision_score : 0.996\n",
      "recall_score : 1.000\n",
      "fbeta_score_0.5 : 0.997\n",
      "fbeta_score_1 : 0.998\n",
      "fbeta_score_2 : 0.999\n",
      "              precision    recall  f1-score   support\n",
      "\n",
      "      Normal       1.00      1.00      1.00      9759\n",
      "     Anamoly       1.00      1.00      1.00       241\n",
      "\n",
      "    accuracy                           1.00     10000\n",
      "   macro avg       1.00      1.00      1.00     10000\n",
      "weighted avg       1.00      1.00      1.00     10000\n",
      "\n",
      "Confusion matrix, without normalization\n",
      "[[9758    1]\n",
      " [   0  241]]\n",
      "Normalized confusion matrix\n",
      "[[1.00e+00 1.02e-04]\n",
      " [0.00e+00 1.00e+00]]\n"
     ]
    },
    {
     "data": {
      "image/png": "[encoded data removed]",
      "text/plain": [
       "<Figure size 432x288 with 2 Axes>"
      ]
     },
     "metadata": {
      "needs_background": "light"
     },
     "output_type": "display_data"
    },
    {
     "data": {
      "image/png": "[encoded data removed]",
      "text/plain": [
       "<Figure size 432x288 with 2 Axes>"
      ]
     },
     "metadata": {
      "needs_background": "light"
     },
     "output_type": "display_data"
    }
   ],
   "source": [
    "print_error_metrics(y_test,y_pred.round())\n",
    "\n",
    "target_names = ['Normal', 'Anamoly']\n",
    "print(classification_report(y_test, y_pred.round(), target_names=target_names))\n",
    "\n",
    "classes = list(unique_labels(y_test, y_pred.round()))\n",
    "\n",
    "# Plot non-normalized confusion matrix\n",
    "plot_confusion_matrix(y_test, y_pred.round(), classes=classes,title='Confusion matrix, without normalization')\n",
    "\n",
    "# Plot normalized confusion matrix\n",
    "plot_confusion_matrix(y_test, y_pred.round(), classes=classes, normalize=True,title='Normalized confusion matrix')\n",
    "\n",
    "plt.show()"
   ]
  },
  {
   "cell_type": "markdown",
   "metadata": {},
   "source": [
    "# adding drop out layers"
   ]
  },
  {
   "cell_type": "code",
   "execution_count": 159,
   "metadata": {},
   "outputs": [
    {
     "data": {
      "text/plain": [
       "keras.engine.sequential.Sequential"
      ]
     },
     "execution_count": 159,
     "metadata": {},
     "output_type": "execute_result"
    }
   ],
   "source": [
    "type(model)"
   ]
  },
  {
   "cell_type": "code",
   "execution_count": 160,
   "metadata": {},
   "outputs": [
    {
     "name": "stdout",
     "output_type": "stream",
     "text": [
      "Train on 68148 samples, validate on 10000 samples\n",
      "Epoch 1/20\n",
      "68148/68148 [==============================] - 1s 19us/step - loss: 0.1074 - acc: 0.9649 - val_loss: 0.0155 - val_acc: 0.9973\n",
      "Epoch 2/20\n",
      "68148/68148 [==============================] - 1s 12us/step - loss: 0.0081 - acc: 0.9989 - val_loss: 0.0132 - val_acc: 0.9991\n",
      "Epoch 3/20\n",
      "68148/68148 [==============================] - 1s 11us/step - loss: 0.0069 - acc: 0.9993 - val_loss: 0.0134 - val_acc: 0.9991\n",
      "Epoch 4/20\n",
      "68148/68148 [==============================] - 1s 12us/step - loss: 0.0068 - acc: 0.9993 - val_loss: 0.0132 - val_acc: 0.9991\n",
      "Epoch 5/20\n",
      "68148/68148 [==============================] - 1s 11us/step - loss: 0.0068 - acc: 0.9994 - val_loss: 0.0136 - val_acc: 0.9991\n",
      "Epoch 6/20\n",
      "68148/68148 [==============================] - 1s 11us/step - loss: 0.0063 - acc: 0.9994 - val_loss: 0.0042 - val_acc: 0.9997\n",
      "Epoch 7/20\n",
      "68148/68148 [==============================] - 1s 13us/step - loss: 0.0060 - acc: 0.9993 - val_loss: 0.0114 - val_acc: 0.9991\n",
      "Epoch 8/20\n",
      "68148/68148 [==============================] - 1s 13us/step - loss: 0.0050 - acc: 0.9994 - val_loss: 0.0084 - val_acc: 0.9991\n",
      "Epoch 9/20\n",
      "68148/68148 [==============================] - 1s 13us/step - loss: 0.0069 - acc: 0.9993 - val_loss: 0.0089 - val_acc: 0.9991\n",
      "Epoch 10/20\n",
      "68148/68148 [==============================] - 1s 14us/step - loss: 0.0055 - acc: 0.9994 - val_loss: 0.0083 - val_acc: 0.9991\n",
      "Epoch 11/20\n",
      "68148/68148 [==============================] - 1s 13us/step - loss: 0.0054 - acc: 0.9993 - val_loss: 0.0045 - val_acc: 0.9991\n",
      "Epoch 12/20\n",
      "68148/68148 [==============================] - 1s 13us/step - loss: 0.0039 - acc: 0.9995 - val_loss: 0.0061 - val_acc: 0.9991\n",
      "Epoch 13/20\n",
      "68148/68148 [==============================] - 1s 15us/step - loss: 0.0045 - acc: 0.9993 - val_loss: 0.0133 - val_acc: 0.9992\n",
      "Epoch 14/20\n",
      "68148/68148 [==============================] - 1s 14us/step - loss: 0.0051 - acc: 0.9995 - val_loss: 0.0037 - val_acc: 0.9997\n",
      "Epoch 15/20\n",
      "68148/68148 [==============================] - 1s 15us/step - loss: 0.0037 - acc: 0.9995 - val_loss: 0.0035 - val_acc: 0.9997\n",
      "Epoch 16/20\n",
      "68148/68148 [==============================] - 1s 15us/step - loss: 0.0041 - acc: 0.9995 - val_loss: 0.0044 - val_acc: 0.9991\n",
      "Epoch 17/20\n",
      "68148/68148 [==============================] - 1s 15us/step - loss: 0.0047 - acc: 0.9994 - val_loss: 0.0036 - val_acc: 0.9997\n",
      "Epoch 18/20\n",
      "68148/68148 [==============================] - 1s 14us/step - loss: 0.0048 - acc: 0.9995 - val_loss: 0.0128 - val_acc: 0.9992\n",
      "Epoch 19/20\n",
      "68148/68148 [==============================] - 1s 13us/step - loss: 0.0059 - acc: 0.9995 - val_loss: 0.0130 - val_acc: 0.9991\n",
      "Epoch 20/20\n",
      "68148/68148 [==============================] - 1s 13us/step - loss: 0.0062 - acc: 0.9994 - val_loss: 0.0130 - val_acc: 0.9992\n",
      "10000/10000 [==============================] - 0s 16us/step\n",
      "[0.019439060199302288, 0.9988]\n"
     ]
    }
   ],
   "source": [
    "model = models.Sequential()\n",
    "model.add(layers.Dense(256, activation='relu',input_shape=(26,)))\n",
    "model.add(layers.Dropout(.5))\n",
    "model.add(layers.Dense(128, activation='relu'))\n",
    "model.add(layers.Dropout(.5))\n",
    "model.add(layers.Dense(64, activation='relu'))\n",
    "model.add(layers.Dropout(.5))\n",
    "model.add(layers.Dense(1, activation='sigmoid'))\n",
    "\n",
    "\n",
    "model.compile(optimizer='rmsprop',loss='binary_crossentropy',metrics=['accuracy'])\n",
    "\n",
    "history = model.fit(partial_x_train,partial_y_train,epochs=20,batch_size=512,validation_data=(x_val, y_val))\n",
    "\n",
    "results = model.evaluate(x_test, y_test)\n",
    "print(results)\n",
    "y_pred = model.predict(x_test)"
   ]
  },
  {
   "cell_type": "code",
   "execution_count": 161,
   "metadata": {},
   "outputs": [],
   "source": [
    "# saving the model after training\n",
    "model.save('final_model_using_model_save.h5')"
   ]
  },
  {
   "cell_type": "code",
   "execution_count": 162,
   "metadata": {},
   "outputs": [
    {
     "data": {
      "text/plain": [
       "[<keras.layers.core.Dense at 0x27c0431bdd8>,\n",
       " <keras.layers.core.Dropout at 0x27c0431b9e8>,\n",
       " <keras.layers.core.Dense at 0x27c0431b4e0>,\n",
       " <keras.layers.core.Dropout at 0x27c0b1d99b0>,\n",
       " <keras.layers.core.Dense at 0x27c0432ae80>,\n",
       " <keras.layers.core.Dropout at 0x27c0432aa20>,\n",
       " <keras.layers.core.Dense at 0x27c072b3c18>]"
      ]
     },
     "execution_count": 162,
     "metadata": {},
     "output_type": "execute_result"
    }
   ],
   "source": [
    "model.layers"
   ]
  },
  {
   "cell_type": "code",
   "execution_count": 163,
   "metadata": {},
   "outputs": [
    {
     "data": {
      "text/plain": [
       "[<tf.Tensor 'dense_13_input:0' shape=(?, 26) dtype=float32>]"
      ]
     },
     "execution_count": 163,
     "metadata": {},
     "output_type": "execute_result"
    }
   ],
   "source": [
    "model.inputs "
   ]
  },
  {
   "cell_type": "code",
   "execution_count": 164,
   "metadata": {},
   "outputs": [
    {
     "data": {
      "text/plain": [
       "[<tf.Tensor 'dense_16/Sigmoid:0' shape=(?, 1) dtype=float32>]"
      ]
     },
     "execution_count": 164,
     "metadata": {},
     "output_type": "execute_result"
    }
   ],
   "source": [
    "model.outputs"
   ]
  },
  {
   "cell_type": "code",
   "execution_count": 165,
   "metadata": {},
   "outputs": [
    {
     "name": "stdout",
     "output_type": "stream",
     "text": [
      "Model: \"sequential_4\"\n",
      "_________________________________________________________________\n",
      "Layer (type)                 Output Shape              Param #   \n",
      "=================================================================\n",
      "dense_13 (Dense)             (None, 256)               6912      \n",
      "_________________________________________________________________\n",
      "dropout_4 (Dropout)          (None, 256)               0         \n",
      "_________________________________________________________________\n",
      "dense_14 (Dense)             (None, 128)               32896     \n",
      "_________________________________________________________________\n",
      "dropout_5 (Dropout)          (None, 128)               0         \n",
      "_________________________________________________________________\n",
      "dense_15 (Dense)             (None, 64)                8256      \n",
      "_________________________________________________________________\n",
      "dropout_6 (Dropout)          (None, 64)                0         \n",
      "_________________________________________________________________\n",
      "dense_16 (Dense)             (None, 1)                 65        \n",
      "=================================================================\n",
      "Total params: 48,129\n",
      "Trainable params: 48,129\n",
      "Non-trainable params: 0\n",
      "_________________________________________________________________\n"
     ]
    }
   ],
   "source": [
    "model.summary()"
   ]
  },
  {
   "cell_type": "code",
   "execution_count": 166,
   "metadata": {},
   "outputs": [
    {
     "data": {
      "text/plain": [
       "{'name': 'sequential_4',\n",
       " 'layers': [{'class_name': 'Dense',\n",
       "   'config': {'name': 'dense_13',\n",
       "    'trainable': True,\n",
       "    'batch_input_shape': (None, 26),\n",
       "    'dtype': 'float32',\n",
       "    'units': 256,\n",
       "    'activation': 'relu',\n",
       "    'use_bias': True,\n",
       "    'kernel_initializer': {'class_name': 'VarianceScaling',\n",
       "     'config': {'scale': 1.0,\n",
       "      'mode': 'fan_avg',\n",
       "      'distribution': 'uniform',\n",
       "      'seed': None}},\n",
       "    'bias_initializer': {'class_name': 'Zeros', 'config': {}},\n",
       "    'kernel_regularizer': None,\n",
       "    'bias_regularizer': None,\n",
       "    'activity_regularizer': None,\n",
       "    'kernel_constraint': None,\n",
       "    'bias_constraint': None}},\n",
       "  {'class_name': 'Dropout',\n",
       "   'config': {'name': 'dropout_4',\n",
       "    'trainable': True,\n",
       "    'dtype': 'float32',\n",
       "    'rate': 0.5,\n",
       "    'noise_shape': None,\n",
       "    'seed': None}},\n",
       "  {'class_name': 'Dense',\n",
       "   'config': {'name': 'dense_14',\n",
       "    'trainable': True,\n",
       "    'dtype': 'float32',\n",
       "    'units': 128,\n",
       "    'activation': 'relu',\n",
       "    'use_bias': True,\n",
       "    'kernel_initializer': {'class_name': 'VarianceScaling',\n",
       "     'config': {'scale': 1.0,\n",
       "      'mode': 'fan_avg',\n",
       "      'distribution': 'uniform',\n",
       "      'seed': None}},\n",
       "    'bias_initializer': {'class_name': 'Zeros', 'config': {}},\n",
       "    'kernel_regularizer': None,\n",
       "    'bias_regularizer': None,\n",
       "    'activity_regularizer': None,\n",
       "    'kernel_constraint': None,\n",
       "    'bias_constraint': None}},\n",
       "  {'class_name': 'Dropout',\n",
       "   'config': {'name': 'dropout_5',\n",
       "    'trainable': True,\n",
       "    'dtype': 'float32',\n",
       "    'rate': 0.5,\n",
       "    'noise_shape': None,\n",
       "    'seed': None}},\n",
       "  {'class_name': 'Dense',\n",
       "   'config': {'name': 'dense_15',\n",
       "    'trainable': True,\n",
       "    'dtype': 'float32',\n",
       "    'units': 64,\n",
       "    'activation': 'relu',\n",
       "    'use_bias': True,\n",
       "    'kernel_initializer': {'class_name': 'VarianceScaling',\n",
       "     'config': {'scale': 1.0,\n",
       "      'mode': 'fan_avg',\n",
       "      'distribution': 'uniform',\n",
       "      'seed': None}},\n",
       "    'bias_initializer': {'class_name': 'Zeros', 'config': {}},\n",
       "    'kernel_regularizer': None,\n",
       "    'bias_regularizer': None,\n",
       "    'activity_regularizer': None,\n",
       "    'kernel_constraint': None,\n",
       "    'bias_constraint': None}},\n",
       "  {'class_name': 'Dropout',\n",
       "   'config': {'name': 'dropout_6',\n",
       "    'trainable': True,\n",
       "    'dtype': 'float32',\n",
       "    'rate': 0.5,\n",
       "    'noise_shape': None,\n",
       "    'seed': None}},\n",
       "  {'class_name': 'Dense',\n",
       "   'config': {'name': 'dense_16',\n",
       "    'trainable': True,\n",
       "    'dtype': 'float32',\n",
       "    'units': 1,\n",
       "    'activation': 'sigmoid',\n",
       "    'use_bias': True,\n",
       "    'kernel_initializer': {'class_name': 'VarianceScaling',\n",
       "     'config': {'scale': 1.0,\n",
       "      'mode': 'fan_avg',\n",
       "      'distribution': 'uniform',\n",
       "      'seed': None}},\n",
       "    'bias_initializer': {'class_name': 'Zeros', 'config': {}},\n",
       "    'kernel_regularizer': None,\n",
       "    'bias_regularizer': None,\n",
       "    'activity_regularizer': None,\n",
       "    'kernel_constraint': None,\n",
       "    'bias_constraint': None}}]}"
      ]
     },
     "execution_count": 166,
     "metadata": {},
     "output_type": "execute_result"
    }
   ],
   "source": [
    "model.get_config()"
   ]
  },
  {
   "cell_type": "code",
   "execution_count": 167,
   "metadata": {},
   "outputs": [],
   "source": [
    "#model.get_weights()"
   ]
  },
  {
   "cell_type": "code",
   "execution_count": 168,
   "metadata": {},
   "outputs": [],
   "source": [
    "json_string = model.to_json()\n",
    "#json_string"
   ]
  },
  {
   "cell_type": "code",
   "execution_count": 169,
   "metadata": {},
   "outputs": [],
   "source": [
    "yaml_string = model.to_yaml()\n",
    "#yaml_string"
   ]
  },
  {
   "cell_type": "code",
   "execution_count": 170,
   "metadata": {},
   "outputs": [
    {
     "data": {
      "image/png": "[encoded data removed]",
      "text/plain": [
       "<Figure size 432x288 with 1 Axes>"
      ]
     },
     "metadata": {
      "needs_background": "light"
     },
     "output_type": "display_data"
    },
    {
     "data": {
      "image/png": "[encoded data removed]",
      "text/plain": [
       "<Figure size 432x288 with 1 Axes>"
      ]
     },
     "metadata": {
      "needs_background": "light"
     },
     "output_type": "display_data"
    }
   ],
   "source": [
    "accuracy,val_accuracy = history.history['acc'],history.history['val_acc']\n",
    "loss,val_loss = history.history['loss'],history.history['val_loss']\n",
    "plot_accuracy(accuracy,val_accuracy)\n",
    "plot_loss(loss,val_loss)"
   ]
  },
  {
   "cell_type": "code",
   "execution_count": 171,
   "metadata": {},
   "outputs": [
    {
     "name": "stdout",
     "output_type": "stream",
     "text": [
      "accuracy score : 0.999\n",
      "balanced accuracy score : 0.999\n",
      "f1_score : 0.976\n",
      "precision_score : 0.953\n",
      "recall_score : 1.000\n",
      "fbeta_score_0.5 : 0.962\n",
      "fbeta_score_1 : 0.976\n",
      "fbeta_score_2 : 0.990\n",
      "              precision    recall  f1-score   support\n",
      "\n",
      "      Normal       1.00      1.00      1.00      9759\n",
      "     Anamoly       0.95      1.00      0.98       241\n",
      "\n",
      "    accuracy                           1.00     10000\n",
      "   macro avg       0.98      1.00      0.99     10000\n",
      "weighted avg       1.00      1.00      1.00     10000\n",
      "\n",
      "Confusion matrix, without normalization\n",
      "[[9747   12]\n",
      " [   0  241]]\n",
      "Normalized confusion matrix\n",
      "[[1. 0.]\n",
      " [0. 1.]]\n"
     ]
    },
    {
     "data": {
      "image/png": "[encoded data removed]",
      "text/plain": [
       "<Figure size 432x288 with 2 Axes>"
      ]
     },
     "metadata": {
      "needs_background": "light"
     },
     "output_type": "display_data"
    },
    {
     "data": {
      "image/png": "[encoded data removed]",
      "text/plain": [
       "<Figure size 432x288 with 2 Axes>"
      ]
     },
     "metadata": {
      "needs_background": "light"
     },
     "output_type": "display_data"
    }
   ],
   "source": [
    "print_error_metrics(y_test,y_pred.round())\n",
    "\n",
    "target_names = ['Normal', 'Anamoly']\n",
    "print(classification_report(y_test, y_pred.round(), target_names=target_names))\n",
    "\n",
    "\n",
    "classes = list(unique_labels(y_test, y_pred.round()))\n",
    "\n",
    "# Plot non-normalized confusion matrix\n",
    "plot_confusion_matrix(y_test, y_pred.round(), classes=classes,title='Confusion matrix, without normalization')\n",
    "\n",
    "# Plot normalized confusion matrix\n",
    "plot_confusion_matrix(y_test, y_pred.round(), classes=classes, normalize=True,title='Normalized confusion matrix')\n",
    "\n",
    "plt.show()"
   ]
  },
  {
   "cell_type": "code",
   "execution_count": 172,
   "metadata": {},
   "outputs": [],
   "source": [
    "#np.unique(y_pred,return_counts=True)"
   ]
  },
  {
   "cell_type": "code",
   "execution_count": 173,
   "metadata": {},
   "outputs": [],
   "source": [
    "#np.unique(y_test,return_counts=True)"
   ]
  },
  {
   "cell_type": "code",
   "execution_count": 174,
   "metadata": {},
   "outputs": [],
   "source": [
    "#np.unique(y_pred,return_counts=True)"
   ]
  },
  {
   "cell_type": "markdown",
   "metadata": {},
   "source": [
    "# using Random Forest on SMOKE DATA"
   ]
  },
  {
   "cell_type": "code",
   "execution_count": 175,
   "metadata": {},
   "outputs": [
    {
     "name": "stderr",
     "output_type": "stream",
     "text": [
      "C:\\Users\\eanusau\\AppData\\Local\\Continuum\\anaconda3\\lib\\site-packages\\sklearn\\ensemble\\forest.py:245: FutureWarning: The default value of n_estimators will change from 10 in version 0.20 to 100 in 0.22.\n",
      "  \"10 in version 0.20 to 100 in 0.22.\", FutureWarning)\n"
     ]
    },
    {
     "name": "stdout",
     "output_type": "stream",
     "text": [
      "accuracy score : 1.000\n",
      "balanced accuracy score : 0.998\n",
      "f1_score : 0.992\n",
      "precision_score : 0.988\n",
      "recall_score : 0.996\n",
      "fbeta_score_0.5 : 0.989\n",
      "fbeta_score_1 : 0.992\n",
      "fbeta_score_2 : 0.994\n",
      "              precision    recall  f1-score   support\n",
      "\n",
      "Mobile phone       1.00      1.00      1.00      9759\n",
      "     Machine       0.99      1.00      0.99       241\n",
      "\n",
      "    accuracy                           1.00     10000\n",
      "   macro avg       0.99      1.00      1.00     10000\n",
      "weighted avg       1.00      1.00      1.00     10000\n",
      "\n",
      "Confusion matrix, without normalization\n",
      "[[9756    3]\n",
      " [   1  240]]\n",
      "Normalized confusion matrix\n",
      "[[1.00e+00 3.07e-04]\n",
      " [4.15e-03 9.96e-01]]\n"
     ]
    },
    {
     "data": {
      "image/png": "[encoded data removed]",
      "text/plain": [
       "<Figure size 432x288 with 2 Axes>"
      ]
     },
     "metadata": {
      "needs_background": "light"
     },
     "output_type": "display_data"
    },
    {
     "data": {
      "image/png": "[encoded data removed]",
      "text/plain": [
       "<Figure size 432x288 with 2 Axes>"
      ]
     },
     "metadata": {
      "needs_background": "light"
     },
     "output_type": "display_data"
    }
   ],
   "source": [
    "from sklearn.ensemble import RandomForestClassifier\n",
    "rf_smote = RandomForestClassifier(random_state=123)\n",
    "rf_smote.fit(partial_x_train, partial_y_train)\n",
    "y_pred = rf_smote.predict(x_test)\n",
    "\n",
    "print_error_metrics(y_test,y_pred)\n",
    "\n",
    "target_names = ['Mobile phone', 'Machine']\n",
    "print(classification_report(y_test, y_pred, target_names=target_names))\n",
    "\n",
    "\n",
    "classes = list(unique_labels(y_test, y_pred))\n",
    "\n",
    "# Plot non-normalized confusion matrix\n",
    "plot_confusion_matrix(y_test, y_pred, classes=classes,title='Confusion matrix, without normalization')\n",
    "\n",
    "# Plot normalized confusion matrix\n",
    "plot_confusion_matrix(y_test, y_pred, classes=classes, normalize=True,title='Normalized confusion matrix')\n",
    "\n",
    "plt.show()"
   ]
  },
  {
   "cell_type": "code",
   "execution_count": 176,
   "metadata": {},
   "outputs": [
    {
     "data": {
      "text/plain": [
       "(array([0, 1], dtype=int64), array([9759,  241], dtype=int64))"
      ]
     },
     "execution_count": 176,
     "metadata": {},
     "output_type": "execute_result"
    }
   ],
   "source": [
    "np.unique(y_test,return_counts=True)"
   ]
  },
  {
   "cell_type": "code",
   "execution_count": 177,
   "metadata": {},
   "outputs": [
    {
     "data": {
      "text/plain": [
       "(array([0, 1], dtype=int64), array([9757,  243], dtype=int64))"
      ]
     },
     "execution_count": 177,
     "metadata": {},
     "output_type": "execute_result"
    }
   ],
   "source": [
    "np.unique(y_pred,return_counts=True)"
   ]
  },
  {
   "cell_type": "code",
   "execution_count": 178,
   "metadata": {},
   "outputs": [
    {
     "name": "stdout",
     "output_type": "stream",
     "text": [
      "[0, 1]\n"
     ]
    }
   ],
   "source": [
    "classes = list(unique_labels(y_test, y_pred))\n",
    "print(classes)"
   ]
  }
 ],
 "metadata": {
  "kernelspec": {
   "display_name": "Python 3",
   "language": "python",
   "name": "python3"
  },
  "language_info": {
   "codemirror_mode": {
    "name": "ipython",
    "version": 3
   },
   "file_extension": ".py",
   "mimetype": "text/x-python",
   "name": "python",
   "nbconvert_exporter": "python",
   "pygments_lexer": "ipython3",
   "version": "3.7.3"
  }
 },
 "nbformat": 4,
 "nbformat_minor": 2
}
